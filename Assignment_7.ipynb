{
 "cells": [
  {
   "cell_type": "markdown",
   "id": "affb1083",
   "metadata": {},
   "source": [
    "**Name:** Mahendra Pratap Singh | **Reg ID:**  GO_STP_7372 | **Intern at:** Goeduhub Technologies | **Assignment:**7 | **Machine Learning**"
   ]
  },
  {
   "cell_type": "markdown",
   "id": "6ee38090",
   "metadata": {},
   "source": [
    "#### Supervised Machine Learning: \n",
    "\n",
    "Simple Linear Regression In this task we have to find the students scores based on their study hours.This is a simple Regression problem type because it has only two variables."
   ]
  },
  {
   "cell_type": "markdown",
   "id": "cfd3c41f",
   "metadata": {},
   "source": [
    "#### Importing Libraries"
   ]
  },
  {
   "cell_type": "code",
   "execution_count": 28,
   "id": "e5848117",
   "metadata": {},
   "outputs": [],
   "source": [
    "from pandas import* \n",
    "import pandas as pd\n",
    "from numpy import*\n",
    "import numpy as np\n",
    "import matplotlib.pyplot as plt"
   ]
  },
  {
   "cell_type": "code",
   "execution_count": 29,
   "id": "936bd2c2",
   "metadata": {},
   "outputs": [],
   "source": [
    "from sklearn import*\n",
    "from sklearn.model_selection import train_test_split"
   ]
  },
  {
   "cell_type": "code",
   "execution_count": 30,
   "id": "0fd5d688",
   "metadata": {},
   "outputs": [],
   "source": [
    "import seaborn as sns\n",
    "import warnings\n",
    "warnings.filterwarnings('ignore')\n",
    "sns.set_theme(style='white')"
   ]
  },
  {
   "cell_type": "markdown",
   "id": "ceafb1e0",
   "metadata": {},
   "source": [
    "#### Importing Dataset"
   ]
  },
  {
   "cell_type": "code",
   "execution_count": 31,
   "id": "75fa6041",
   "metadata": {},
   "outputs": [
    {
     "data": {
      "text/html": [
       "<div>\n",
       "<style scoped>\n",
       "    .dataframe tbody tr th:only-of-type {\n",
       "        vertical-align: middle;\n",
       "    }\n",
       "\n",
       "    .dataframe tbody tr th {\n",
       "        vertical-align: top;\n",
       "    }\n",
       "\n",
       "    .dataframe thead th {\n",
       "        text-align: right;\n",
       "    }\n",
       "</style>\n",
       "<table border=\"1\" class=\"dataframe\">\n",
       "  <thead>\n",
       "    <tr style=\"text-align: right;\">\n",
       "      <th></th>\n",
       "      <th>Hours</th>\n",
       "      <th>Scores</th>\n",
       "    </tr>\n",
       "  </thead>\n",
       "  <tbody>\n",
       "    <tr>\n",
       "      <th>0</th>\n",
       "      <td>7.7</td>\n",
       "      <td>79</td>\n",
       "    </tr>\n",
       "    <tr>\n",
       "      <th>1</th>\n",
       "      <td>5.9</td>\n",
       "      <td>60</td>\n",
       "    </tr>\n",
       "    <tr>\n",
       "      <th>2</th>\n",
       "      <td>4.5</td>\n",
       "      <td>45</td>\n",
       "    </tr>\n",
       "    <tr>\n",
       "      <th>3</th>\n",
       "      <td>3.3</td>\n",
       "      <td>33</td>\n",
       "    </tr>\n",
       "    <tr>\n",
       "      <th>4</th>\n",
       "      <td>1.1</td>\n",
       "      <td>12</td>\n",
       "    </tr>\n",
       "  </tbody>\n",
       "</table>\n",
       "</div>"
      ],
      "text/plain": [
       "   Hours  Scores\n",
       "0    7.7      79\n",
       "1    5.9      60\n",
       "2    4.5      45\n",
       "3    3.3      33\n",
       "4    1.1      12"
      ]
     },
     "execution_count": 31,
     "metadata": {},
     "output_type": "execute_result"
    }
   ],
   "source": [
    "data = read_csv('StudentHoursScores.csv')\n",
    "data.head()"
   ]
  },
  {
   "cell_type": "markdown",
   "id": "74bfb081",
   "metadata": {},
   "source": [
    "**from:** y = mx+c where as x = \"Hours\", y = \"Scores\""
   ]
  },
  {
   "cell_type": "markdown",
   "id": "4578b9cb",
   "metadata": {},
   "source": [
    "#### Basic Information about datasets"
   ]
  },
  {
   "cell_type": "code",
   "execution_count": 5,
   "id": "e68db625",
   "metadata": {},
   "outputs": [
    {
     "data": {
      "text/plain": [
       "(23, 2)"
      ]
     },
     "execution_count": 5,
     "metadata": {},
     "output_type": "execute_result"
    }
   ],
   "source": [
    "data.shape"
   ]
  },
  {
   "cell_type": "code",
   "execution_count": 6,
   "id": "0ff28449",
   "metadata": {},
   "outputs": [
    {
     "data": {
      "text/plain": [
       "Hours     0\n",
       "Scores    0\n",
       "dtype: int64"
      ]
     },
     "execution_count": 6,
     "metadata": {},
     "output_type": "execute_result"
    }
   ],
   "source": [
    "data.isna().sum()"
   ]
  },
  {
   "cell_type": "code",
   "execution_count": 6,
   "id": "be0ae9ed",
   "metadata": {},
   "outputs": [
    {
     "data": {
      "text/plain": [
       "Hours     float64\n",
       "Scores      int64\n",
       "dtype: object"
      ]
     },
     "execution_count": 6,
     "metadata": {},
     "output_type": "execute_result"
    }
   ],
   "source": [
    "data.dtypes"
   ]
  },
  {
   "cell_type": "code",
   "execution_count": 7,
   "id": "43fb9002",
   "metadata": {},
   "outputs": [
    {
     "data": {
      "text/plain": [
       "pandas.core.frame.DataFrame"
      ]
     },
     "execution_count": 7,
     "metadata": {},
     "output_type": "execute_result"
    }
   ],
   "source": [
    "type(data)"
   ]
  },
  {
   "cell_type": "code",
   "execution_count": 8,
   "id": "b68150cc",
   "metadata": {},
   "outputs": [
    {
     "data": {
      "text/html": [
       "<div>\n",
       "<style scoped>\n",
       "    .dataframe tbody tr th:only-of-type {\n",
       "        vertical-align: middle;\n",
       "    }\n",
       "\n",
       "    .dataframe tbody tr th {\n",
       "        vertical-align: top;\n",
       "    }\n",
       "\n",
       "    .dataframe thead th {\n",
       "        text-align: right;\n",
       "    }\n",
       "</style>\n",
       "<table border=\"1\" class=\"dataframe\">\n",
       "  <thead>\n",
       "    <tr style=\"text-align: right;\">\n",
       "      <th></th>\n",
       "      <th>Hours</th>\n",
       "      <th>Scores</th>\n",
       "    </tr>\n",
       "  </thead>\n",
       "  <tbody>\n",
       "    <tr>\n",
       "      <th>count</th>\n",
       "      <td>23.000000</td>\n",
       "      <td>23.000000</td>\n",
       "    </tr>\n",
       "    <tr>\n",
       "      <th>mean</th>\n",
       "      <td>4.817391</td>\n",
       "      <td>47.695652</td>\n",
       "    </tr>\n",
       "    <tr>\n",
       "      <th>std</th>\n",
       "      <td>2.709688</td>\n",
       "      <td>27.103228</td>\n",
       "    </tr>\n",
       "    <tr>\n",
       "      <th>min</th>\n",
       "      <td>1.100000</td>\n",
       "      <td>12.000000</td>\n",
       "    </tr>\n",
       "    <tr>\n",
       "      <th>25%</th>\n",
       "      <td>2.650000</td>\n",
       "      <td>27.000000</td>\n",
       "    </tr>\n",
       "    <tr>\n",
       "      <th>50%</th>\n",
       "      <td>4.100000</td>\n",
       "      <td>40.000000</td>\n",
       "    </tr>\n",
       "    <tr>\n",
       "      <th>75%</th>\n",
       "      <td>7.100000</td>\n",
       "      <td>72.500000</td>\n",
       "    </tr>\n",
       "    <tr>\n",
       "      <th>max</th>\n",
       "      <td>9.600000</td>\n",
       "      <td>96.000000</td>\n",
       "    </tr>\n",
       "  </tbody>\n",
       "</table>\n",
       "</div>"
      ],
      "text/plain": [
       "           Hours     Scores\n",
       "count  23.000000  23.000000\n",
       "mean    4.817391  47.695652\n",
       "std     2.709688  27.103228\n",
       "min     1.100000  12.000000\n",
       "25%     2.650000  27.000000\n",
       "50%     4.100000  40.000000\n",
       "75%     7.100000  72.500000\n",
       "max     9.600000  96.000000"
      ]
     },
     "execution_count": 8,
     "metadata": {},
     "output_type": "execute_result"
    }
   ],
   "source": [
    "data.describe()"
   ]
  },
  {
   "cell_type": "code",
   "execution_count": 10,
   "id": "d16cab64",
   "metadata": {},
   "outputs": [
    {
     "data": {
      "text/html": [
       "<div>\n",
       "<style scoped>\n",
       "    .dataframe tbody tr th:only-of-type {\n",
       "        vertical-align: middle;\n",
       "    }\n",
       "\n",
       "    .dataframe tbody tr th {\n",
       "        vertical-align: top;\n",
       "    }\n",
       "\n",
       "    .dataframe thead th {\n",
       "        text-align: right;\n",
       "    }\n",
       "</style>\n",
       "<table border=\"1\" class=\"dataframe\">\n",
       "  <thead>\n",
       "    <tr style=\"text-align: right;\">\n",
       "      <th></th>\n",
       "      <th>Hours</th>\n",
       "      <th>Scores</th>\n",
       "    </tr>\n",
       "  </thead>\n",
       "  <tbody>\n",
       "    <tr>\n",
       "      <th>Hours</th>\n",
       "      <td>1.000000</td>\n",
       "      <td>0.997656</td>\n",
       "    </tr>\n",
       "    <tr>\n",
       "      <th>Scores</th>\n",
       "      <td>0.997656</td>\n",
       "      <td>1.000000</td>\n",
       "    </tr>\n",
       "  </tbody>\n",
       "</table>\n",
       "</div>"
      ],
      "text/plain": [
       "           Hours    Scores\n",
       "Hours   1.000000  0.997656\n",
       "Scores  0.997656  1.000000"
      ]
     },
     "execution_count": 10,
     "metadata": {},
     "output_type": "execute_result"
    }
   ],
   "source": [
    "data.corr()"
   ]
  },
  {
   "cell_type": "code",
   "execution_count": 12,
   "id": "3525b49c",
   "metadata": {},
   "outputs": [
    {
     "data": {
      "text/plain": [
       "Hours     22\n",
       "Scores    22\n",
       "dtype: int64"
      ]
     },
     "execution_count": 12,
     "metadata": {},
     "output_type": "execute_result"
    }
   ],
   "source": [
    "data.nunique()"
   ]
  },
  {
   "cell_type": "markdown",
   "id": "66d4f879",
   "metadata": {},
   "source": [
    "#### Data Visualization "
   ]
  },
  {
   "cell_type": "code",
   "execution_count": 64,
   "id": "4dfd21cf",
   "metadata": {},
   "outputs": [
    {
     "data": {
      "image/png": "[encoded data removed]",
      "text/plain": [
       "<Figure size 432x288 with 1 Axes>"
      ]
     },
     "metadata": {},
     "output_type": "display_data"
    }
   ],
   "source": [
    "x = data['Hours']\n",
    "y = data['Scores']\n",
    "plt.scatter(x,y,color = 'blue',marker='.')\n",
    "plt.xlabel(\"Hours\", fontweight=\"bold\")\n",
    "plt.ylabel(\"Scores\", fontweight=\"bold\")\n",
    "plt.title('Scatter Plot', fontweight=\"bold\")\n",
    "plt.show()"
   ]
  },
  {
   "cell_type": "code",
   "execution_count": 59,
   "id": "a18a3431",
   "metadata": {},
   "outputs": [
    {
     "data": {
      "image/png": "[encoded data removed]",
      "text/plain": [
       "<Figure size 864x432 with 2 Axes>"
      ]
     },
     "metadata": {},
     "output_type": "display_data"
    }
   ],
   "source": [
    "fig, axes = plt.subplots(1,2,figsize=(12, 6))\n",
    "sns.scatterplot(x = data.Hours,y = data.Scores,color = 'royalblue',ax = axes[0])\n",
    "sns.rugplot(x = data.Hours,y = data.Scores,ax = axes[0])\n",
    "sns.lineplot(x = data.Hours,y = data.Scores,color = 'purple',ax = axes[1])\n",
    "plt.suptitle(\"Relational Plot\", fontweight=\"bold\")\n",
    "plt.show()"
   ]
  },
  {
   "cell_type": "code",
   "execution_count": 58,
   "id": "c608c247",
   "metadata": {},
   "outputs": [
    {
     "data": {
      "image/png": "[encoded data removed]",
      "text/plain": [
       "<Figure size 936x936 with 6 Axes>"
      ]
     },
     "metadata": {},
     "output_type": "display_data"
    }
   ],
   "source": [
    "fig, axes = plt.subplots(3,2,figsize=(13, 13))\n",
    "sns.histplot(x = data.Hours, ax = axes[0][0],kde = True,color = 'violet')\n",
    "sns.histplot(x = data.Scores, ax = axes[0][1],kde = True,color = 'crimson')\n",
    "sns.violinplot(y = data.Hours, ax = axes[1][0],color = 'hotpink')\n",
    "sns.violinplot(y = data.Scores, ax = axes[1][1],color = 'deeppink')\n",
    "sns.boxplot(y = data.Hours, ax = axes[2][0],color = 'lime')\n",
    "sns.boxplot(y = data.Scores, ax = axes[2][1],color = 'limegreen')\n",
    "plt.suptitle(\"Distributions\", fontweight=\"bold\")\n",
    "plt.show()"
   ]
  },
  {
   "cell_type": "markdown",
   "id": "06ffb545",
   "metadata": {},
   "source": [
    "#### Spliting of dataset into test and training"
   ]
  },
  {
   "cell_type": "code",
   "execution_count": 32,
   "id": "e9c49bfe",
   "metadata": {},
   "outputs": [],
   "source": [
    "x = data.iloc[:,:-1].values # Features\n",
    "y = data.iloc[:,1].values # Labels"
   ]
  },
  {
   "cell_type": "code",
   "execution_count": 33,
   "id": "a430793f",
   "metadata": {},
   "outputs": [],
   "source": [
    "xtrain,xtest,ytrain,ytest = train_test_split(x,y,test_size=1/3,random_state=1)"
   ]
  },
  {
   "cell_type": "markdown",
   "id": "63b23896",
   "metadata": {},
   "source": [
    "#### Creating the simple linear model"
   ]
  },
  {
   "cell_type": "code",
   "execution_count": 34,
   "id": "10371632",
   "metadata": {},
   "outputs": [],
   "source": [
    "from sklearn.linear_model import LinearRegression"
   ]
  },
  {
   "cell_type": "code",
   "execution_count": 35,
   "id": "87cb0309",
   "metadata": {},
   "outputs": [],
   "source": [
    "model = LinearRegression() # this will create a linear reg model : y = ax+b"
   ]
  },
  {
   "cell_type": "code",
   "execution_count": 36,
   "id": "f9c66465",
   "metadata": {},
   "outputs": [
    {
     "data": {
      "text/plain": [
       "LinearRegression()"
      ]
     },
     "execution_count": 36,
     "metadata": {},
     "output_type": "execute_result"
    }
   ],
   "source": [
    "model.fit(xtrain,ytrain) #fit the model"
   ]
  },
  {
   "cell_type": "markdown",
   "id": "c98ebba7",
   "metadata": {},
   "source": [
    "#### Prediction"
   ]
  },
  {
   "cell_type": "code",
   "execution_count": 37,
   "id": "01fb508b",
   "metadata": {},
   "outputs": [
    {
     "data": {
      "text/plain": [
       "array([40.50038393, 24.63061172, 32.56549782, 34.54921935, 42.48410545,\n",
       "       64.30504223, 54.3864346 , 10.74456104])"
      ]
     },
     "execution_count": 37,
     "metadata": {},
     "output_type": "execute_result"
    }
   ],
   "source": [
    "y_predict = model.predict(xtest)\n",
    "y_predict"
   ]
  },
  {
   "cell_type": "code",
   "execution_count": 38,
   "id": "0d2b450f",
   "metadata": {},
   "outputs": [
    {
     "data": {
      "text/plain": [
       "array([40, 21, 33, 34, 42, 66, 58, 12])"
      ]
     },
     "execution_count": 38,
     "metadata": {},
     "output_type": "execute_result"
    }
   ],
   "source": [
    "ytest"
   ]
  },
  {
   "cell_type": "code",
   "execution_count": 68,
   "id": "82cc86aa",
   "metadata": {},
   "outputs": [
    {
     "name": "stdout",
     "output_type": "stream",
     "text": [
      "The cof is: [9.91860763]\n",
      "The intercept is: -0.16590734578961275\n"
     ]
    }
   ],
   "source": [
    "cof = model.coef_\n",
    "intc = model.intercept_\n",
    "print('The cof is:',cof)\n",
    "print('The intercept is:',intc)"
   ]
  },
  {
   "cell_type": "markdown",
   "id": "a9798060",
   "metadata": {},
   "source": [
    "#### Accuracy"
   ]
  },
  {
   "cell_type": "code",
   "execution_count": 42,
   "id": "c45bbf0d",
   "metadata": {},
   "outputs": [],
   "source": [
    "from sklearn.metrics import r2_score, mean_squared_error"
   ]
  },
  {
   "cell_type": "code",
   "execution_count": 43,
   "id": "353c9e1a",
   "metadata": {},
   "outputs": [
    {
     "name": "stdout",
     "output_type": "stream",
     "text": [
      "Accuracy is:  0.9856694359125361\n",
      "The mean squared error is: 3.9579226689064453\n"
     ]
    }
   ],
   "source": [
    "print(\"Accuracy is: \", r2_score(ytest,y_predict))\n",
    "print(\"The mean squared error is:\", mean_squared_error(ytest,y_predict))"
   ]
  },
  {
   "cell_type": "code",
   "execution_count": 44,
   "id": "293a50a0",
   "metadata": {},
   "outputs": [],
   "source": [
    "# Cross check___y = mx+c "
   ]
  },
  {
   "cell_type": "code",
   "execution_count": 39,
   "id": "0c16e814",
   "metadata": {},
   "outputs": [
    {
     "data": {
      "text/plain": [
       "array([227.96206808])"
      ]
     },
     "execution_count": 39,
     "metadata": {},
     "output_type": "execute_result"
    }
   ],
   "source": [
    "model.predict([[23]])#__predict for single value"
   ]
  },
  {
   "cell_type": "code",
   "execution_count": 45,
   "id": "bc3baaaa",
   "metadata": {},
   "outputs": [
    {
     "data": {
      "text/plain": [
       "227.94899999999998"
      ]
     },
     "execution_count": 45,
     "metadata": {},
     "output_type": "execute_result"
    }
   ],
   "source": [
    "9.918*23 + -0.165"
   ]
  },
  {
   "cell_type": "markdown",
   "id": "a2124214",
   "metadata": {},
   "source": [
    "#### Ploting"
   ]
  },
  {
   "cell_type": "code",
   "execution_count": 57,
   "id": "5fc5c199",
   "metadata": {},
   "outputs": [
    {
     "data": {
      "image/png": "[encoded data removed]",
      "text/plain": [
       "<Figure size 864x432 with 2 Axes>"
      ]
     },
     "metadata": {},
     "output_type": "display_data"
    }
   ],
   "source": [
    "fig, (ax1, ax2) = plt.subplots(nrows=1, ncols=2, figsize = (12,6))\n",
    "ax1.scatter(xtrain,ytrain,color=\"deeppink\",s = 120)\n",
    "ax1.plot(xtrain,model.predict(xtrain),color=\"limegreen\",linewidth = 3)\n",
    "ax1.set_title('Training',fontweight=\"bold\" )\n",
    "\n",
    "ax2.scatter(xtest,ytest,color=\"crimson\",s = 120,marker = 's')\n",
    "ax2.plot(xtest,model.predict(xtest),'g:',linewidth = 3)\n",
    "ax2.set_title('Testing',fontweight=\"bold\")\n",
    "plt.show()"
   ]
  },
  {
   "cell_type": "markdown",
   "id": "d849c412",
   "metadata": {},
   "source": [
    "**Done**"
   ]
  }
 ],
 "metadata": {
  "kernelspec": {
   "display_name": "Python 3",
   "language": "python",
   "name": "python3"
  },
  "language_info": {
   "codemirror_mode": {
    "name": "ipython",
    "version": 3
   },
   "file_extension": ".py",
   "mimetype": "text/x-python",
   "name": "python",
   "nbconvert_exporter": "python",
   "pygments_lexer": "ipython3",
   "version": "3.8.8"
  }
 },
 "nbformat": 4,
 "nbformat_minor": 5
}
