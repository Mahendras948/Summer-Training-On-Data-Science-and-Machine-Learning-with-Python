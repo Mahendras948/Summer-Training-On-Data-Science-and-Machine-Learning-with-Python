{
 "cells": [
  {
   "cell_type": "markdown",
   "id": "3b973e3b",
   "metadata": {},
   "source": [
    "Practice KNN - We have a dataset that contains multiple user's information through the social network who are interested in buying SUV Car or not. \n",
    "\n",
    "DataSet-Click Here for Download user_data.csv "
   ]
  },
  {
   "cell_type": "code",
   "execution_count": null,
   "id": "d5b1984a",
   "metadata": {},
   "outputs": [],
   "source": []
  }
 ],
 "metadata": {
  "kernelspec": {
   "display_name": "Python 3",
   "language": "python",
   "name": "python3"
  },
  "language_info": {
   "codemirror_mode": {
    "name": "ipython",
    "version": 3
   },
   "file_extension": ".py",
   "mimetype": "text/x-python",
   "name": "python",
   "nbconvert_exporter": "python",
   "pygments_lexer": "ipython3",
   "version": "3.8.8"
  }
 },
 "nbformat": 4,
 "nbformat_minor": 5
}
